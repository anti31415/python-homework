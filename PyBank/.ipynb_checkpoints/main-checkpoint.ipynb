{
 "cells": [
  {
   "cell_type": "code",
   "execution_count": 41,
   "metadata": {},
   "outputs": [
    {
     "name": "stdout",
     "output_type": "stream",
     "text": [
      "C:\\Users\\antiz\\Desktop\\FintechBC\\homework\\python-homework\\PyBank\n",
      "budget_data.csv\n"
     ]
    }
   ],
   "source": [
    "from pathlib import Path\n",
    "import os\n",
    "import csv\n",
    "# Set the path for the csv file\n",
    "csvpath = Path('budget_data.csv')\n",
    "print(Path.cwd())\n",
    "print(csvpath)"
   ]
  },
  {
   "cell_type": "code",
   "execution_count": 42,
   "metadata": {},
   "outputs": [
    {
     "name": "stdout",
     "output_type": "stream",
     "text": [
      "['Date', 'Profit/Losses'] <---- HEADER\n"
     ]
    }
   ],
   "source": [
    "# Initialize dictionary\n",
    "budget_data = {}\n",
    "# Initialize list to hold P/L\n",
    "Pnls = []\n",
    "Date = []\n",
    "# Initialize variable\n",
    "order = 0\n",
    "date = \"\"\n",
    "Pnl = 0\n",
    "# Read each row of data after the header\n",
    "with open(csvpath, 'r') as csvfile:\n",
    "    csvreader = csv.reader(csvfile, delimiter=',')\n",
    "    header = next(csvreader)\n",
    "    # Print the header\n",
    "    print(f\"{header} <---- HEADER\")\n",
    "   \n",
    "    for row in csvreader:\n",
    "        # Print the row\n",
    "        # print(row)\n",
    "        #Date = row[0]\n",
    "        Pnl = int(row[1])\n",
    "        Pnls.append(Pnl)\n",
    "        date = row[0]\n",
    "        Date.append(date)  "
   ]
  },
  {
   "cell_type": "code",
   "execution_count": 46,
   "metadata": {},
   "outputs": [],
   "source": [
    "# Calculate the total number of months and net total amount of Profit/Losses over the entire period\n",
    "# Initialize metric variables\n",
    "month_total = 0\n",
    "net_profit_total = 0\n",
    "\n",
    "for Pnl in Pnls:\n",
    "    net_profit_total += Pnl\n",
    "    month_total += 1\n",
    "\n",
    "# Calculate the Average PnL Change and Determine max and min value and associated key\n",
    "# Initialize dictionary\n",
    "analysis = {}\n",
    "# Initialize metric variables\n",
    "delta = 0\n",
    "count = 0\n",
    "delta_sum = 0\n",
    "delta_avg = 0\n",
    "date = \"\"\n",
    "\n",
    "# Calculate the Average PnL Change\n",
    "for i in range(86):\n",
    "    if i == 0:\n",
    "        delta = 0\n",
    "        date = Date[i] \n",
    "        count = 0\n",
    "    else:\n",
    "        delta = Pnls[i] -Pnls[i-1]\n",
    "        count += 1\n",
    "        date = Date[i]\n",
    "    \n",
    "    delta_sum += delta\n",
    "\n",
    "    if date not in analysis.keys():\n",
    "        analysis[date] = delta\n",
    "    else:\n",
    "        analysis[date] += delta\n",
    "        \n",
    "delta_avg = round(delta_sum / count, 2)\n",
    "\n",
    "# Initialize metric variables for Max and Min logic\n",
    "max_delta = 0\n",
    "max_date = \"\"\n",
    "min_delta = 0\n",
    "min_date = \"\"\n",
    "delta = 0\n",
    "date1 = \"\"\n",
    "\n",
    "#  Logic to determine max and min value and associated key\n",
    "for date1, delta in analysis.items():\n",
    "\n",
    "    if min_delta == 0:\n",
    "        min_delta = delta\n",
    "        max_date = date1\n",
    "    elif delta < min_delta:\n",
    "        min_delta = delta\n",
    "        min_date = date1\n",
    "\n",
    "    if delta > max_delta:\n",
    "        max_delta = delta\n",
    "        max_date = date1"
   ]
  },
  {
   "cell_type": "code",
   "execution_count": 47,
   "metadata": {},
   "outputs": [
    {
     "name": "stdout",
     "output_type": "stream",
     "text": [
      "Total Months: 86\n",
      "Total: $38382578\n",
      "Average Change: $-2315.12\n",
      "Greatest Increase in Profits: Feb-2012 $1926159\n",
      "Greatest Decrease in Profits: Sep-2013 $-2196167\n"
     ]
    }
   ],
   "source": [
    "# Print the metrics\n",
    "print(f\"Total Months: {month_total}\")\n",
    "print(f\"Total: ${net_profit_total}\")\n",
    "print(f\"Average Change: ${delta_avg}\")\n",
    "print(f\"Greatest Increase in Profits: {max_date} ${max_delta}\")\n",
    "print(f\"Greatest Decrease in Profits: {min_date} ${min_delta}\")"
   ]
  },
  {
   "cell_type": "code",
   "execution_count": 48,
   "metadata": {},
   "outputs": [],
   "source": [
    "# Set output file name\n",
    "output_path = 'output.txt'\n",
    "# Open the output path as a file object\n",
    "with open(output_path, 'w') as file:\n",
    "    # Write contents to the output file, convert to string\n",
    "    file.write(f\"Total Months: {month_total}.\\n\")\n",
    "    file.write(f\"Total: ${net_profit_total}.\\n\")\n",
    "    file.write(f\"Average Change: ${delta_avg}.\\n\")\n",
    "    file.write(f\"Greatest Increase in Profits: {max_date} ${max_delta}.\\n\")\n",
    "    file.write(f\"Greatest Decrease in Profits: {min_date} ${min_delta}.\")\n"
   ]
  }
 ],
 "metadata": {
  "kernelspec": {
   "display_name": "Python 3",
   "language": "python",
   "name": "python3"
  },
  "language_info": {
   "codemirror_mode": {
    "name": "ipython",
    "version": 3
   },
   "file_extension": ".py",
   "mimetype": "text/x-python",
   "name": "python",
   "nbconvert_exporter": "python",
   "pygments_lexer": "ipython3",
   "version": "3.8.3"
  }
 },
 "nbformat": 4,
 "nbformat_minor": 4
}
